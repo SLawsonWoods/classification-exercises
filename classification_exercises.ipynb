{
 "cells": [
  {
   "cell_type": "code",
   "execution_count": 1,
   "id": "271b000b",
   "metadata": {},
   "outputs": [],
   "source": [
    "import seaborn as sns\n",
    "from pydataset import data\n",
    "import pandas as pd\n",
    "from pandas import DataFrame\n",
    "import acquire1\n",
    "# import splitting and imputing functions\n",
    "from sklearn.model_selection import train_test_split\n",
    "from sklearn.impute import SimpleImputer\n",
    "import matplotlib.pyplot as plt\n"
   ]
  },
  {
   "cell_type": "markdown",
   "id": "9e52f8b9",
   "metadata": {},
   "source": [
    "In a jupyter notebook, classification_exercises.ipynb, use a python module (pydata or seaborn datasets) containing datasets as a source from the iris data. Create a pandas dataframe, df_iris, from this data."
   ]
  },
  {
   "cell_type": "code",
   "execution_count": null,
   "id": "2427f603",
   "metadata": {},
   "outputs": [],
   "source": [
    "iris = data('iris')"
   ]
  },
  {
   "cell_type": "code",
   "execution_count": null,
   "id": "6e3e5b5b",
   "metadata": {},
   "outputs": [],
   "source": [
    "iris.head()"
   ]
  },
  {
   "cell_type": "code",
   "execution_count": null,
   "id": "f35dd818",
   "metadata": {},
   "outputs": [],
   "source": [
    "#print the first 3 rows\n",
    "iris.head(3)"
   ]
  },
  {
   "cell_type": "code",
   "execution_count": null,
   "id": "a1533690",
   "metadata": {},
   "outputs": [],
   "source": [
    "#print the number of rows and columns (shape)\n",
    "iris.shape"
   ]
  },
  {
   "cell_type": "code",
   "execution_count": null,
   "id": "e80fb863",
   "metadata": {},
   "outputs": [],
   "source": [
    "#print the data type of each column\n",
    "iris.dtypes"
   ]
  },
  {
   "cell_type": "code",
   "execution_count": null,
   "id": "e13e43ab",
   "metadata": {},
   "outputs": [],
   "source": [
    "#print the summary statistics for each of the numeric variables. Would you recommend \n",
    "#rescaling the data based on these statistics? \n",
    "#rescaling means normalize the data within a particular range, I don't think they need to be \n",
    "# rescaled because they seem to be in a normalized range.\n",
    "iris.describe().T"
   ]
  },
  {
   "cell_type": "markdown",
   "id": "407a8b47",
   "metadata": {},
   "source": [
    "2. Read the Table1_CustDetails table from the Excel_Exercises.xlsx file into a dataframe named df_excel.\n"
   ]
  },
  {
   "cell_type": "code",
   "execution_count": null,
   "id": "2324ea03",
   "metadata": {},
   "outputs": [],
   "source": [
    "#read the csv file and name it df_excel as instructed\n",
    "df_excel = pd.read_csv(\"Telco.csv\")"
   ]
  },
  {
   "cell_type": "raw",
   "id": "66ebbeb2",
   "metadata": {},
   "source": [
    "#\n"
   ]
  },
  {
   "cell_type": "code",
   "execution_count": null,
   "id": "d0e9fb2a",
   "metadata": {},
   "outputs": [],
   "source": [
    "#show me the dataframe\n",
    "df_excel"
   ]
  },
  {
   "cell_type": "code",
   "execution_count": null,
   "id": "8ac8d11b",
   "metadata": {},
   "outputs": [],
   "source": [
    "#assign the first 100 rows to a new dataframe, df_excel_sample\n",
    "df_excel_sample = df_excel.head(100)\n",
    "df_excel_sample"
   ]
  },
  {
   "cell_type": "code",
   "execution_count": null,
   "id": "4e0c0b8f",
   "metadata": {},
   "outputs": [],
   "source": [
    "#print the number of rows of your original dataframe\n",
    "df_excel.shape[0]"
   ]
  },
  {
   "cell_type": "code",
   "execution_count": null,
   "id": "c6cd96ef",
   "metadata": {},
   "outputs": [],
   "source": [
    "#print the first 5 column names\n",
    "df_excel.columns[0:5]"
   ]
  },
  {
   "cell_type": "code",
   "execution_count": null,
   "id": "9277ff9e",
   "metadata": {},
   "outputs": [],
   "source": [
    "#print the column names that have a data type of object\n",
    "df_excel.select_dtypes"
   ]
  },
  {
   "cell_type": "code",
   "execution_count": null,
   "id": "9b923ac1",
   "metadata": {},
   "outputs": [],
   "source": [
    "#print the summary statistics for each of the numeric variables\n",
    "df_excel.describe()"
   ]
  },
  {
   "cell_type": "code",
   "execution_count": null,
   "id": "30724499",
   "metadata": {},
   "outputs": [],
   "source": [
    "#print the unique values for each of your categorical variables\n",
    "df_excel.nunique()"
   ]
  },
  {
   "cell_type": "markdown",
   "id": "0338e1d3",
   "metadata": {},
   "source": [
    "3. Read the data from this google sheet into a dataframe, df_google"
   ]
  },
  {
   "cell_type": "code",
   "execution_count": null,
   "id": "b5c35e90",
   "metadata": {},
   "outputs": [],
   "source": [
    "df_google = pd.read_csv(\"googlesheets.csv\")"
   ]
  },
  {
   "cell_type": "code",
   "execution_count": null,
   "id": "a10db383",
   "metadata": {},
   "outputs": [],
   "source": [
    "df_google"
   ]
  },
  {
   "cell_type": "code",
   "execution_count": null,
   "id": "50d9f5c2",
   "metadata": {},
   "outputs": [],
   "source": [
    "#print the first 3 rows\n",
    "print(df_google.iloc[:3])"
   ]
  },
  {
   "cell_type": "code",
   "execution_count": null,
   "id": "9d848f28",
   "metadata": {},
   "outputs": [],
   "source": [
    "#print the number of rows and columns\n",
    "df_google.shape"
   ]
  },
  {
   "cell_type": "code",
   "execution_count": null,
   "id": "2be145d0",
   "metadata": {},
   "outputs": [],
   "source": [
    "#print the column names\n",
    "df_google.columns"
   ]
  },
  {
   "cell_type": "code",
   "execution_count": null,
   "id": "c4521880",
   "metadata": {},
   "outputs": [],
   "source": [
    "#print the data type of each column\n",
    "df_google.dtypes.T"
   ]
  },
  {
   "cell_type": "code",
   "execution_count": null,
   "id": "5a753476",
   "metadata": {},
   "outputs": [],
   "source": [
    "#print the summary statistics for each of the numeric variables\n",
    "df_google.describe()"
   ]
  },
  {
   "cell_type": "code",
   "execution_count": null,
   "id": "da916e30",
   "metadata": {},
   "outputs": [],
   "source": [
    "#print the unique values for each of your categorical variables\n",
    "\n",
    "df_google.nunique()"
   ]
  },
  {
   "cell_type": "code",
   "execution_count": null,
   "id": "890325d2",
   "metadata": {},
   "outputs": [],
   "source": [
    "######################################################## PREPARE"
   ]
  },
  {
   "cell_type": "code",
   "execution_count": null,
   "id": "f623b524",
   "metadata": {},
   "outputs": [],
   "source": [
    "import env"
   ]
  },
  {
   "cell_type": "code",
   "execution_count": null,
   "id": "9ac9ebd2",
   "metadata": {},
   "outputs": [],
   "source": [
    "def new_iris_data():\n",
    "    '''\n",
    "    This function reads the iris data from the Codeup db into a df.\n",
    "    '''\n",
    "    sql_query = \"\"\"\n",
    "                SELECT \n",
    "                    species_id,\n",
    "                    species_name,\n",
    "                    sepal_length,\n",
    "                    sepal_width,\n",
    "                    petal_length,\n",
    "                    petal_width\n",
    "                FROM measurements\n",
    "                JOIN species USING(species_id)\n",
    "                \"\"\"\n",
    "    \n",
    "    # Read in DataFrame from Codeup db.\n",
    "    df = pd.read_sql(sql_query, get_connection('iris_db'))\n",
    "    \n",
    "    return df\n",
    "\n",
    "\n",
    "def get_iris_data():\n",
    "    '''\n",
    "    This function reads in iris data from Codeup database, writes data to\n",
    "    a csv file if a local file does not exist, and returns a df.\n",
    "    '''\n",
    "    if os.path.isfile('iris_df.csv'):\n",
    "        \n",
    "        # If csv file exists read in data from csv file.\n",
    "        df = pd.read_csv('iris_df.csv', index_col=0)\n",
    "        \n",
    "    else:\n",
    "        \n",
    "        # Read fresh data from db into a DataFrame\n",
    "        df = new_iris_data()\n",
    "        \n",
    "        # Cache data\n",
    "        df.to_csv('iris_df.csv')\n",
    "        \n",
    "    return df"
   ]
  },
  {
   "cell_type": "code",
   "execution_count": null,
   "id": "fc237743",
   "metadata": {},
   "outputs": [],
   "source": [
    "df= acquire1.get_iris_data()"
   ]
  },
  {
   "cell_type": "code",
   "execution_count": null,
   "id": "ad7d1136",
   "metadata": {},
   "outputs": [],
   "source": [
    "df"
   ]
  },
  {
   "cell_type": "code",
   "execution_count": null,
   "id": "c4ceb6df",
   "metadata": {},
   "outputs": [],
   "source": [
    "#Drop the species_id and (this one wasn't there to drop)measurement_id columns.\n",
    "df = df.drop(columns = ['species_id'])"
   ]
  },
  {
   "cell_type": "code",
   "execution_count": null,
   "id": "e05ab0c2",
   "metadata": {},
   "outputs": [],
   "source": [
    "df"
   ]
  },
  {
   "cell_type": "code",
   "execution_count": null,
   "id": "310bee40",
   "metadata": {},
   "outputs": [],
   "source": [
    "#Rename the species_name column to just species.\n",
    "df.rename(columns={'species_name': 'species'}, inplace=True)\n"
   ]
  },
  {
   "cell_type": "code",
   "execution_count": null,
   "id": "79f4c127",
   "metadata": {},
   "outputs": [],
   "source": [
    "df"
   ]
  },
  {
   "cell_type": "code",
   "execution_count": null,
   "id": "043a85f8",
   "metadata": {},
   "outputs": [],
   "source": [
    "#Create dummy variables of the species name.\n",
    "# use pd.get_dummies. Returns a dataframe\n",
    "df_dummy = pd.get_dummies(df[['species']]) #drop_first=[True] if I want to whittle down columns to only the necessary\n",
    "\n",
    "df_dummy.head()"
   ]
  },
  {
   "cell_type": "code",
   "execution_count": null,
   "id": "fb9fb7a3",
   "metadata": {},
   "outputs": [],
   "source": [
    "df= pd.concat([df, df_dummy], axis = 1)\n",
    "df.head()"
   ]
  },
  {
   "cell_type": "code",
   "execution_count": null,
   "id": "81754f8d",
   "metadata": {},
   "outputs": [],
   "source": [
    "#Create a function named prep_iris that accepts the untransformed iris data, and returns \n",
    "#the data with the transformations above applied.\n",
    "def prep_iris(iris_db):\n",
    "    df= acquire1.get_iris_data()\n",
    "    df = df.drop(columns = ['species_id'])    \n",
    "    df.rename(columns={'species_name': 'species'}, inplace=True)    \n",
    "    df_dummy = pd.get_dummies(df[['species']])\n",
    "    df= pd.concat([df, df_dummy], axis = 1)  \n",
    "    return df"
   ]
  },
  {
   "cell_type": "code",
   "execution_count": null,
   "id": "543ec402",
   "metadata": {},
   "outputs": [],
   "source": [
    "########################### PRACTICE"
   ]
  },
  {
   "cell_type": "code",
   "execution_count": 2,
   "id": "8708a903",
   "metadata": {},
   "outputs": [],
   "source": [
    "#read the csv file and name it df_telco to practice with\n",
    "df_telco = pd.read_csv(\"Telco.csv\")"
   ]
  },
  {
   "cell_type": "code",
   "execution_count": 3,
   "id": "f7841407",
   "metadata": {},
   "outputs": [],
   "source": [
    "#Clean data"
   ]
  },
  {
   "cell_type": "code",
   "execution_count": 4,
   "id": "e21e3a21",
   "metadata": {},
   "outputs": [],
   "source": [
    "#determine what columns to drop, no use for customer_id\n",
    "df_telco = df_telco.drop(columns= \"customer_id\")"
   ]
  },
  {
   "cell_type": "code",
   "execution_count": 5,
   "id": "37274647",
   "metadata": {},
   "outputs": [
    {
     "data": {
      "text/plain": [
       "Index(['gender', 'is_senior_citizen', 'partner', 'dependents', 'phone_service',\n",
       "       'internet_service', 'contract_type', 'payment_type', 'monthly_charges',\n",
       "       'total_charges', 'churn'],\n",
       "      dtype='object')"
      ]
     },
     "execution_count": 5,
     "metadata": {},
     "output_type": "execute_result"
    }
   ],
   "source": [
    "#Check to make sure customer_id column was dropped\n",
    "df_telco.columns"
   ]
  },
  {
   "cell_type": "code",
   "execution_count": 6,
   "id": "d4f1c8fe",
   "metadata": {},
   "outputs": [
    {
     "data": {
      "text/plain": [
       "(7049, 11)"
      ]
     },
     "execution_count": 6,
     "metadata": {},
     "output_type": "execute_result"
    }
   ],
   "source": [
    "df_telco.shape"
   ]
  },
  {
   "cell_type": "code",
   "execution_count": 7,
   "id": "6b9b289f",
   "metadata": {},
   "outputs": [],
   "source": [
    "#drop any duplicates\n",
    "df_telco = df_telco.drop_duplicates()"
   ]
  },
  {
   "cell_type": "code",
   "execution_count": 8,
   "id": "7f3fe850",
   "metadata": {},
   "outputs": [
    {
     "data": {
      "text/plain": [
       "(7009, 11)"
      ]
     },
     "execution_count": 8,
     "metadata": {},
     "output_type": "execute_result"
    }
   ],
   "source": [
    "#check to see if any duplicates were dropped\n",
    "df_telco.shape"
   ]
  },
  {
   "cell_type": "code",
   "execution_count": 9,
   "id": "16a0a13a",
   "metadata": {},
   "outputs": [
    {
     "data": {
      "text/plain": [
       "gender                0\n",
       "is_senior_citizen     0\n",
       "partner               0\n",
       "dependents            0\n",
       "phone_service         0\n",
       "internet_service      0\n",
       "contract_type         0\n",
       "payment_type          0\n",
       "monthly_charges       0\n",
       "total_charges        11\n",
       "churn                 0\n",
       "dtype: int64"
      ]
     },
     "execution_count": 9,
     "metadata": {},
     "output_type": "execute_result"
    }
   ],
   "source": [
    "#Check for null values to determine which columns to drop or nulls to replace\n",
    "df_telco.isnull().sum()"
   ]
  },
  {
   "cell_type": "code",
   "execution_count": 10,
   "id": "4f8b9ea8",
   "metadata": {},
   "outputs": [
    {
     "data": {
      "text/plain": [
       "2294.2429908545278"
      ]
     },
     "execution_count": 10,
     "metadata": {},
     "output_type": "execute_result"
    }
   ],
   "source": [
    "# Find the average monthly charge to replace null values\n",
    "df_telco.total_charges.mean()"
   ]
  },
  {
   "cell_type": "code",
   "execution_count": 11,
   "id": "5cde74b8",
   "metadata": {},
   "outputs": [],
   "source": [
    "# Replace null values with average monthly charge\n",
    "df_telco.fillna(value = 2283.30, inplace = True)"
   ]
  },
  {
   "cell_type": "code",
   "execution_count": 12,
   "id": "52b4da22",
   "metadata": {},
   "outputs": [
    {
     "data": {
      "text/plain": [
       "gender               0\n",
       "is_senior_citizen    0\n",
       "partner              0\n",
       "dependents           0\n",
       "phone_service        0\n",
       "internet_service     0\n",
       "contract_type        0\n",
       "payment_type         0\n",
       "monthly_charges      0\n",
       "total_charges        0\n",
       "churn                0\n",
       "dtype: int64"
      ]
     },
     "execution_count": 12,
     "metadata": {},
     "output_type": "execute_result"
    }
   ],
   "source": [
    "#Check to see if null values are now filled with the average\n",
    "df_telco.isnull().sum()"
   ]
  },
  {
   "cell_type": "code",
   "execution_count": 13,
   "id": "2252c37d",
   "metadata": {},
   "outputs": [
    {
     "data": {
      "text/html": [
       "<div>\n",
       "<style scoped>\n",
       "    .dataframe tbody tr th:only-of-type {\n",
       "        vertical-align: middle;\n",
       "    }\n",
       "\n",
       "    .dataframe tbody tr th {\n",
       "        vertical-align: top;\n",
       "    }\n",
       "\n",
       "    .dataframe thead th {\n",
       "        text-align: right;\n",
       "    }\n",
       "</style>\n",
       "<table border=\"1\" class=\"dataframe\">\n",
       "  <thead>\n",
       "    <tr style=\"text-align: right;\">\n",
       "      <th></th>\n",
       "      <th>gender</th>\n",
       "      <th>is_senior_citizen</th>\n",
       "      <th>partner</th>\n",
       "      <th>dependents</th>\n",
       "      <th>phone_service</th>\n",
       "      <th>internet_service</th>\n",
       "      <th>contract_type</th>\n",
       "      <th>payment_type</th>\n",
       "      <th>monthly_charges</th>\n",
       "      <th>total_charges</th>\n",
       "      <th>churn</th>\n",
       "    </tr>\n",
       "  </thead>\n",
       "  <tbody>\n",
       "    <tr>\n",
       "      <th>0</th>\n",
       "      <td>Female</td>\n",
       "      <td>0</td>\n",
       "      <td>Yes</td>\n",
       "      <td>Yes</td>\n",
       "      <td>1</td>\n",
       "      <td>1</td>\n",
       "      <td>1</td>\n",
       "      <td>Mailed check</td>\n",
       "      <td>65.60</td>\n",
       "      <td>593.30</td>\n",
       "      <td>No</td>\n",
       "    </tr>\n",
       "    <tr>\n",
       "      <th>1</th>\n",
       "      <td>Male</td>\n",
       "      <td>0</td>\n",
       "      <td>No</td>\n",
       "      <td>No</td>\n",
       "      <td>2</td>\n",
       "      <td>1</td>\n",
       "      <td>0</td>\n",
       "      <td>Mailed check</td>\n",
       "      <td>59.90</td>\n",
       "      <td>542.40</td>\n",
       "      <td>No</td>\n",
       "    </tr>\n",
       "    <tr>\n",
       "      <th>2</th>\n",
       "      <td>Male</td>\n",
       "      <td>0</td>\n",
       "      <td>No</td>\n",
       "      <td>No</td>\n",
       "      <td>1</td>\n",
       "      <td>2</td>\n",
       "      <td>0</td>\n",
       "      <td>Electronic check</td>\n",
       "      <td>73.90</td>\n",
       "      <td>280.85</td>\n",
       "      <td>Yes</td>\n",
       "    </tr>\n",
       "    <tr>\n",
       "      <th>3</th>\n",
       "      <td>Male</td>\n",
       "      <td>1</td>\n",
       "      <td>Yes</td>\n",
       "      <td>No</td>\n",
       "      <td>1</td>\n",
       "      <td>2</td>\n",
       "      <td>0</td>\n",
       "      <td>Electronic check</td>\n",
       "      <td>98.00</td>\n",
       "      <td>1237.85</td>\n",
       "      <td>Yes</td>\n",
       "    </tr>\n",
       "    <tr>\n",
       "      <th>4</th>\n",
       "      <td>Female</td>\n",
       "      <td>1</td>\n",
       "      <td>Yes</td>\n",
       "      <td>No</td>\n",
       "      <td>1</td>\n",
       "      <td>2</td>\n",
       "      <td>0</td>\n",
       "      <td>Mailed check</td>\n",
       "      <td>83.90</td>\n",
       "      <td>267.40</td>\n",
       "      <td>Yes</td>\n",
       "    </tr>\n",
       "    <tr>\n",
       "      <th>5</th>\n",
       "      <td>Female</td>\n",
       "      <td>0</td>\n",
       "      <td>No</td>\n",
       "      <td>Yes</td>\n",
       "      <td>1</td>\n",
       "      <td>1</td>\n",
       "      <td>0</td>\n",
       "      <td>Credit card (automatic)</td>\n",
       "      <td>69.40</td>\n",
       "      <td>571.45</td>\n",
       "      <td>No</td>\n",
       "    </tr>\n",
       "    <tr>\n",
       "      <th>6</th>\n",
       "      <td>Female</td>\n",
       "      <td>1</td>\n",
       "      <td>Yes</td>\n",
       "      <td>No</td>\n",
       "      <td>1</td>\n",
       "      <td>2</td>\n",
       "      <td>2</td>\n",
       "      <td>Bank transfer (automatic)</td>\n",
       "      <td>109.70</td>\n",
       "      <td>7904.25</td>\n",
       "      <td>No</td>\n",
       "    </tr>\n",
       "    <tr>\n",
       "      <th>7</th>\n",
       "      <td>Male</td>\n",
       "      <td>0</td>\n",
       "      <td>Yes</td>\n",
       "      <td>No</td>\n",
       "      <td>2</td>\n",
       "      <td>2</td>\n",
       "      <td>2</td>\n",
       "      <td>Credit card (automatic)</td>\n",
       "      <td>84.65</td>\n",
       "      <td>5377.80</td>\n",
       "      <td>No</td>\n",
       "    </tr>\n",
       "    <tr>\n",
       "      <th>8</th>\n",
       "      <td>Female</td>\n",
       "      <td>1</td>\n",
       "      <td>No</td>\n",
       "      <td>No</td>\n",
       "      <td>1</td>\n",
       "      <td>1</td>\n",
       "      <td>0</td>\n",
       "      <td>Electronic check</td>\n",
       "      <td>48.20</td>\n",
       "      <td>340.35</td>\n",
       "      <td>No</td>\n",
       "    </tr>\n",
       "    <tr>\n",
       "      <th>9</th>\n",
       "      <td>Female</td>\n",
       "      <td>0</td>\n",
       "      <td>Yes</td>\n",
       "      <td>Yes</td>\n",
       "      <td>2</td>\n",
       "      <td>1</td>\n",
       "      <td>2</td>\n",
       "      <td>Mailed check</td>\n",
       "      <td>90.45</td>\n",
       "      <td>5957.90</td>\n",
       "      <td>No</td>\n",
       "    </tr>\n",
       "    <tr>\n",
       "      <th>10</th>\n",
       "      <td>Male</td>\n",
       "      <td>0</td>\n",
       "      <td>No</td>\n",
       "      <td>No</td>\n",
       "      <td>0</td>\n",
       "      <td>1</td>\n",
       "      <td>2</td>\n",
       "      <td>Credit card (automatic)</td>\n",
       "      <td>45.20</td>\n",
       "      <td>2460.55</td>\n",
       "      <td>No</td>\n",
       "    </tr>\n",
       "    <tr>\n",
       "      <th>11</th>\n",
       "      <td>Female</td>\n",
       "      <td>0</td>\n",
       "      <td>Yes</td>\n",
       "      <td>Yes</td>\n",
       "      <td>2</td>\n",
       "      <td>2</td>\n",
       "      <td>2</td>\n",
       "      <td>Credit card (automatic)</td>\n",
       "      <td>116.80</td>\n",
       "      <td>8456.75</td>\n",
       "      <td>No</td>\n",
       "    </tr>\n",
       "    <tr>\n",
       "      <th>12</th>\n",
       "      <td>Female</td>\n",
       "      <td>0</td>\n",
       "      <td>Yes</td>\n",
       "      <td>No</td>\n",
       "      <td>1</td>\n",
       "      <td>2</td>\n",
       "      <td>0</td>\n",
       "      <td>Electronic check</td>\n",
       "      <td>68.95</td>\n",
       "      <td>351.50</td>\n",
       "      <td>No</td>\n",
       "    </tr>\n",
       "    <tr>\n",
       "      <th>13</th>\n",
       "      <td>Female</td>\n",
       "      <td>0</td>\n",
       "      <td>No</td>\n",
       "      <td>No</td>\n",
       "      <td>2</td>\n",
       "      <td>2</td>\n",
       "      <td>2</td>\n",
       "      <td>Bank transfer (automatic)</td>\n",
       "      <td>101.30</td>\n",
       "      <td>7261.25</td>\n",
       "      <td>No</td>\n",
       "    </tr>\n",
       "    <tr>\n",
       "      <th>14</th>\n",
       "      <td>Female</td>\n",
       "      <td>0</td>\n",
       "      <td>No</td>\n",
       "      <td>No</td>\n",
       "      <td>0</td>\n",
       "      <td>1</td>\n",
       "      <td>2</td>\n",
       "      <td>Bank transfer (automatic)</td>\n",
       "      <td>45.05</td>\n",
       "      <td>2560.10</td>\n",
       "      <td>No</td>\n",
       "    </tr>\n",
       "    <tr>\n",
       "      <th>15</th>\n",
       "      <td>Female</td>\n",
       "      <td>0</td>\n",
       "      <td>Yes</td>\n",
       "      <td>Yes</td>\n",
       "      <td>2</td>\n",
       "      <td>2</td>\n",
       "      <td>2</td>\n",
       "      <td>Credit card (automatic)</td>\n",
       "      <td>95.75</td>\n",
       "      <td>6849.40</td>\n",
       "      <td>No</td>\n",
       "    </tr>\n",
       "    <tr>\n",
       "      <th>16</th>\n",
       "      <td>Female</td>\n",
       "      <td>0</td>\n",
       "      <td>Yes</td>\n",
       "      <td>Yes</td>\n",
       "      <td>0</td>\n",
       "      <td>1</td>\n",
       "      <td>1</td>\n",
       "      <td>Mailed check</td>\n",
       "      <td>61.25</td>\n",
       "      <td>1993.20</td>\n",
       "      <td>No</td>\n",
       "    </tr>\n",
       "    <tr>\n",
       "      <th>17</th>\n",
       "      <td>Female</td>\n",
       "      <td>1</td>\n",
       "      <td>No</td>\n",
       "      <td>No</td>\n",
       "      <td>2</td>\n",
       "      <td>2</td>\n",
       "      <td>0</td>\n",
       "      <td>Electronic check</td>\n",
       "      <td>72.10</td>\n",
       "      <td>72.10</td>\n",
       "      <td>No</td>\n",
       "    </tr>\n",
       "    <tr>\n",
       "      <th>18</th>\n",
       "      <td>Male</td>\n",
       "      <td>1</td>\n",
       "      <td>No</td>\n",
       "      <td>No</td>\n",
       "      <td>1</td>\n",
       "      <td>1</td>\n",
       "      <td>1</td>\n",
       "      <td>Credit card (automatic)</td>\n",
       "      <td>62.70</td>\n",
       "      <td>2791.50</td>\n",
       "      <td>Yes</td>\n",
       "    </tr>\n",
       "    <tr>\n",
       "      <th>19</th>\n",
       "      <td>Male</td>\n",
       "      <td>1</td>\n",
       "      <td>No</td>\n",
       "      <td>No</td>\n",
       "      <td>0</td>\n",
       "      <td>1</td>\n",
       "      <td>0</td>\n",
       "      <td>Electronic check</td>\n",
       "      <td>25.10</td>\n",
       "      <td>25.10</td>\n",
       "      <td>Yes</td>\n",
       "    </tr>\n",
       "  </tbody>\n",
       "</table>\n",
       "</div>"
      ],
      "text/plain": [
       "    gender  is_senior_citizen partner dependents  phone_service  \\\n",
       "0   Female                  0     Yes        Yes              1   \n",
       "1     Male                  0      No         No              2   \n",
       "2     Male                  0      No         No              1   \n",
       "3     Male                  1     Yes         No              1   \n",
       "4   Female                  1     Yes         No              1   \n",
       "5   Female                  0      No        Yes              1   \n",
       "6   Female                  1     Yes         No              1   \n",
       "7     Male                  0     Yes         No              2   \n",
       "8   Female                  1      No         No              1   \n",
       "9   Female                  0     Yes        Yes              2   \n",
       "10    Male                  0      No         No              0   \n",
       "11  Female                  0     Yes        Yes              2   \n",
       "12  Female                  0     Yes         No              1   \n",
       "13  Female                  0      No         No              2   \n",
       "14  Female                  0      No         No              0   \n",
       "15  Female                  0     Yes        Yes              2   \n",
       "16  Female                  0     Yes        Yes              0   \n",
       "17  Female                  1      No         No              2   \n",
       "18    Male                  1      No         No              1   \n",
       "19    Male                  1      No         No              0   \n",
       "\n",
       "    internet_service  contract_type               payment_type  \\\n",
       "0                  1              1               Mailed check   \n",
       "1                  1              0               Mailed check   \n",
       "2                  2              0           Electronic check   \n",
       "3                  2              0           Electronic check   \n",
       "4                  2              0               Mailed check   \n",
       "5                  1              0    Credit card (automatic)   \n",
       "6                  2              2  Bank transfer (automatic)   \n",
       "7                  2              2    Credit card (automatic)   \n",
       "8                  1              0           Electronic check   \n",
       "9                  1              2               Mailed check   \n",
       "10                 1              2    Credit card (automatic)   \n",
       "11                 2              2    Credit card (automatic)   \n",
       "12                 2              0           Electronic check   \n",
       "13                 2              2  Bank transfer (automatic)   \n",
       "14                 1              2  Bank transfer (automatic)   \n",
       "15                 2              2    Credit card (automatic)   \n",
       "16                 1              1               Mailed check   \n",
       "17                 2              0           Electronic check   \n",
       "18                 1              1    Credit card (automatic)   \n",
       "19                 1              0           Electronic check   \n",
       "\n",
       "    monthly_charges  total_charges churn  \n",
       "0             65.60         593.30    No  \n",
       "1             59.90         542.40    No  \n",
       "2             73.90         280.85   Yes  \n",
       "3             98.00        1237.85   Yes  \n",
       "4             83.90         267.40   Yes  \n",
       "5             69.40         571.45    No  \n",
       "6            109.70        7904.25    No  \n",
       "7             84.65        5377.80    No  \n",
       "8             48.20         340.35    No  \n",
       "9             90.45        5957.90    No  \n",
       "10            45.20        2460.55    No  \n",
       "11           116.80        8456.75    No  \n",
       "12            68.95         351.50    No  \n",
       "13           101.30        7261.25    No  \n",
       "14            45.05        2560.10    No  \n",
       "15            95.75        6849.40    No  \n",
       "16            61.25        1993.20    No  \n",
       "17            72.10          72.10    No  \n",
       "18            62.70        2791.50   Yes  \n",
       "19            25.10          25.10   Yes  "
      ]
     },
     "execution_count": 13,
     "metadata": {},
     "output_type": "execute_result"
    }
   ],
   "source": [
    "df_telco.head(20)"
   ]
  },
  {
   "cell_type": "code",
   "execution_count": 14,
   "id": "c4b06ee4",
   "metadata": {},
   "outputs": [
    {
     "data": {
      "text/html": [
       "<div>\n",
       "<style scoped>\n",
       "    .dataframe tbody tr th:only-of-type {\n",
       "        vertical-align: middle;\n",
       "    }\n",
       "\n",
       "    .dataframe tbody tr th {\n",
       "        vertical-align: top;\n",
       "    }\n",
       "\n",
       "    .dataframe thead th {\n",
       "        text-align: right;\n",
       "    }\n",
       "</style>\n",
       "<table border=\"1\" class=\"dataframe\">\n",
       "  <thead>\n",
       "    <tr style=\"text-align: right;\">\n",
       "      <th></th>\n",
       "      <th>dependents_Yes</th>\n",
       "      <th>churn_Yes</th>\n",
       "    </tr>\n",
       "  </thead>\n",
       "  <tbody>\n",
       "    <tr>\n",
       "      <th>0</th>\n",
       "      <td>1</td>\n",
       "      <td>0</td>\n",
       "    </tr>\n",
       "    <tr>\n",
       "      <th>1</th>\n",
       "      <td>0</td>\n",
       "      <td>0</td>\n",
       "    </tr>\n",
       "    <tr>\n",
       "      <th>2</th>\n",
       "      <td>0</td>\n",
       "      <td>1</td>\n",
       "    </tr>\n",
       "    <tr>\n",
       "      <th>3</th>\n",
       "      <td>0</td>\n",
       "      <td>1</td>\n",
       "    </tr>\n",
       "    <tr>\n",
       "      <th>4</th>\n",
       "      <td>0</td>\n",
       "      <td>1</td>\n",
       "    </tr>\n",
       "  </tbody>\n",
       "</table>\n",
       "</div>"
      ],
      "text/plain": [
       "   dependents_Yes  churn_Yes\n",
       "0               1          0\n",
       "1               0          0\n",
       "2               0          1\n",
       "3               0          1\n",
       "4               0          1"
      ]
     },
     "execution_count": 14,
     "metadata": {},
     "output_type": "execute_result"
    }
   ],
   "source": [
    "#Get dummy values dependents and churn columns; unnecessary columns\n",
    "dummy_df = pd.get_dummies(df_telco[['dependents','churn']], dummy_na=False, drop_first=[True,True])\n",
    "dummy_df.head()"
   ]
  },
  {
   "cell_type": "code",
   "execution_count": 15,
   "id": "b841adfd",
   "metadata": {},
   "outputs": [
    {
     "data": {
      "text/html": [
       "<div>\n",
       "<style scoped>\n",
       "    .dataframe tbody tr th:only-of-type {\n",
       "        vertical-align: middle;\n",
       "    }\n",
       "\n",
       "    .dataframe tbody tr th {\n",
       "        vertical-align: top;\n",
       "    }\n",
       "\n",
       "    .dataframe thead th {\n",
       "        text-align: right;\n",
       "    }\n",
       "</style>\n",
       "<table border=\"1\" class=\"dataframe\">\n",
       "  <thead>\n",
       "    <tr style=\"text-align: right;\">\n",
       "      <th></th>\n",
       "      <th>gender</th>\n",
       "      <th>is_senior_citizen</th>\n",
       "      <th>partner</th>\n",
       "      <th>dependents</th>\n",
       "      <th>phone_service</th>\n",
       "      <th>internet_service</th>\n",
       "      <th>contract_type</th>\n",
       "      <th>payment_type</th>\n",
       "      <th>monthly_charges</th>\n",
       "      <th>total_charges</th>\n",
       "      <th>churn</th>\n",
       "      <th>dependents_Yes</th>\n",
       "      <th>churn_Yes</th>\n",
       "    </tr>\n",
       "  </thead>\n",
       "  <tbody>\n",
       "    <tr>\n",
       "      <th>0</th>\n",
       "      <td>Female</td>\n",
       "      <td>0</td>\n",
       "      <td>Yes</td>\n",
       "      <td>Yes</td>\n",
       "      <td>1</td>\n",
       "      <td>1</td>\n",
       "      <td>1</td>\n",
       "      <td>Mailed check</td>\n",
       "      <td>65.6</td>\n",
       "      <td>593.3</td>\n",
       "      <td>No</td>\n",
       "      <td>1</td>\n",
       "      <td>0</td>\n",
       "    </tr>\n",
       "  </tbody>\n",
       "</table>\n",
       "</div>"
      ],
      "text/plain": [
       "   gender  is_senior_citizen partner dependents  phone_service  \\\n",
       "0  Female                  0     Yes        Yes              1   \n",
       "\n",
       "   internet_service  contract_type  payment_type  monthly_charges  \\\n",
       "0                 1              1  Mailed check             65.6   \n",
       "\n",
       "   total_charges churn  dependents_Yes  churn_Yes  \n",
       "0          593.3    No               1          0  "
      ]
     },
     "execution_count": 15,
     "metadata": {},
     "output_type": "execute_result"
    }
   ],
   "source": [
    "#attach the dummy columns to the main df\n",
    "df_telco = pd.concat([df_telco,dummy_df], axis=1)\n",
    "df_telco.head(1)"
   ]
  },
  {
   "cell_type": "code",
   "execution_count": 16,
   "id": "8b6f8224",
   "metadata": {},
   "outputs": [
    {
     "data": {
      "text/html": [
       "<div>\n",
       "<style scoped>\n",
       "    .dataframe tbody tr th:only-of-type {\n",
       "        vertical-align: middle;\n",
       "    }\n",
       "\n",
       "    .dataframe tbody tr th {\n",
       "        vertical-align: top;\n",
       "    }\n",
       "\n",
       "    .dataframe thead th {\n",
       "        text-align: right;\n",
       "    }\n",
       "</style>\n",
       "<table border=\"1\" class=\"dataframe\">\n",
       "  <thead>\n",
       "    <tr style=\"text-align: right;\">\n",
       "      <th></th>\n",
       "      <th>gender</th>\n",
       "      <th>is_senior_citizen</th>\n",
       "      <th>partner</th>\n",
       "      <th>dependents</th>\n",
       "      <th>phone_service</th>\n",
       "      <th>internet_service</th>\n",
       "      <th>contract_type</th>\n",
       "      <th>payment_type</th>\n",
       "      <th>monthly_charges</th>\n",
       "      <th>total_charges</th>\n",
       "      <th>churn</th>\n",
       "      <th>dependents_Yes</th>\n",
       "      <th>churn_Yes</th>\n",
       "    </tr>\n",
       "  </thead>\n",
       "  <tbody>\n",
       "    <tr>\n",
       "      <th>0</th>\n",
       "      <td>Female</td>\n",
       "      <td>0</td>\n",
       "      <td>Yes</td>\n",
       "      <td>Yes</td>\n",
       "      <td>1</td>\n",
       "      <td>1</td>\n",
       "      <td>1</td>\n",
       "      <td>Mailed check</td>\n",
       "      <td>65.6</td>\n",
       "      <td>593.30</td>\n",
       "      <td>No</td>\n",
       "      <td>1</td>\n",
       "      <td>0</td>\n",
       "    </tr>\n",
       "    <tr>\n",
       "      <th>1</th>\n",
       "      <td>Male</td>\n",
       "      <td>0</td>\n",
       "      <td>No</td>\n",
       "      <td>No</td>\n",
       "      <td>2</td>\n",
       "      <td>1</td>\n",
       "      <td>0</td>\n",
       "      <td>Mailed check</td>\n",
       "      <td>59.9</td>\n",
       "      <td>542.40</td>\n",
       "      <td>No</td>\n",
       "      <td>0</td>\n",
       "      <td>0</td>\n",
       "    </tr>\n",
       "    <tr>\n",
       "      <th>2</th>\n",
       "      <td>Male</td>\n",
       "      <td>0</td>\n",
       "      <td>No</td>\n",
       "      <td>No</td>\n",
       "      <td>1</td>\n",
       "      <td>2</td>\n",
       "      <td>0</td>\n",
       "      <td>Electronic check</td>\n",
       "      <td>73.9</td>\n",
       "      <td>280.85</td>\n",
       "      <td>Yes</td>\n",
       "      <td>0</td>\n",
       "      <td>1</td>\n",
       "    </tr>\n",
       "    <tr>\n",
       "      <th>3</th>\n",
       "      <td>Male</td>\n",
       "      <td>1</td>\n",
       "      <td>Yes</td>\n",
       "      <td>No</td>\n",
       "      <td>1</td>\n",
       "      <td>2</td>\n",
       "      <td>0</td>\n",
       "      <td>Electronic check</td>\n",
       "      <td>98.0</td>\n",
       "      <td>1237.85</td>\n",
       "      <td>Yes</td>\n",
       "      <td>0</td>\n",
       "      <td>1</td>\n",
       "    </tr>\n",
       "    <tr>\n",
       "      <th>4</th>\n",
       "      <td>Female</td>\n",
       "      <td>1</td>\n",
       "      <td>Yes</td>\n",
       "      <td>No</td>\n",
       "      <td>1</td>\n",
       "      <td>2</td>\n",
       "      <td>0</td>\n",
       "      <td>Mailed check</td>\n",
       "      <td>83.9</td>\n",
       "      <td>267.40</td>\n",
       "      <td>Yes</td>\n",
       "      <td>0</td>\n",
       "      <td>1</td>\n",
       "    </tr>\n",
       "  </tbody>\n",
       "</table>\n",
       "</div>"
      ],
      "text/plain": [
       "   gender  is_senior_citizen partner dependents  phone_service  \\\n",
       "0  Female                  0     Yes        Yes              1   \n",
       "1    Male                  0      No         No              2   \n",
       "2    Male                  0      No         No              1   \n",
       "3    Male                  1     Yes         No              1   \n",
       "4  Female                  1     Yes         No              1   \n",
       "\n",
       "   internet_service  contract_type      payment_type  monthly_charges  \\\n",
       "0                 1              1      Mailed check             65.6   \n",
       "1                 1              0      Mailed check             59.9   \n",
       "2                 2              0  Electronic check             73.9   \n",
       "3                 2              0  Electronic check             98.0   \n",
       "4                 2              0      Mailed check             83.9   \n",
       "\n",
       "   total_charges churn  dependents_Yes  churn_Yes  \n",
       "0         593.30    No               1          0  \n",
       "1         542.40    No               0          0  \n",
       "2         280.85   Yes               0          1  \n",
       "3        1237.85   Yes               0          1  \n",
       "4         267.40   Yes               0          1  "
      ]
     },
     "execution_count": 16,
     "metadata": {},
     "output_type": "execute_result"
    }
   ],
   "source": [
    "#this one didn't work but not sure why\n",
    "\n",
    "#drop the columns we just make dummy columns for\n",
    "dropping = ['dependents','churn']\n",
    "df_telco.drop(columns= dropping)\n",
    "df_telco.head()"
   ]
  },
  {
   "cell_type": "code",
   "execution_count": 17,
   "id": "a6f1d5b7",
   "metadata": {},
   "outputs": [],
   "source": [
    "#time to train, validate, test, split"
   ]
  },
  {
   "cell_type": "code",
   "execution_count": 18,
   "id": "be6ab18b",
   "metadata": {},
   "outputs": [],
   "source": [
    "# 20% test, 80% train_validate\n",
    "# then of the 80% train_validate: 30% validate, 70% train. \n",
    "\n",
    "train, test = train_test_split(df_telco, test_size=.2, random_state=123, stratify=df_telco.churn_Yes)\n",
    "train, validate = train_test_split(train, test_size=.3, random_state=123, stratify=train.churn_Yes)"
   ]
  },
  {
   "cell_type": "code",
   "execution_count": 19,
   "id": "7893a1c0",
   "metadata": {},
   "outputs": [
    {
     "name": "stdout",
     "output_type": "stream",
     "text": [
      "train -> (3924, 13)\n",
      "validate -> (1683, 13)\n",
      "test -> (1402, 13)\n"
     ]
    }
   ],
   "source": [
    "#validate the split\n",
    "print(f'train -> {train.shape}')\n",
    "print(f'validate -> {validate.shape}')\n",
    "print(f'test -> {test.shape}')"
   ]
  },
  {
   "cell_type": "code",
   "execution_count": 20,
   "id": "9368d18f",
   "metadata": {},
   "outputs": [],
   "source": [
    "# creating a function that will train, validate and split data when a df in input\n",
    "def split_data(df_telco):\n",
    "    train, test = train_test_split(df_telco, test_size=.2, random_state=123, stratify=df_telco.churn_Yes)\n",
    "    train, validate = train_test_split(train, test_size=.3, random_state=123, stratify=train.churn_Yes)\n",
    "    return train, validate, test"
   ]
  },
  {
   "cell_type": "code",
   "execution_count": 21,
   "id": "2198e2bb",
   "metadata": {},
   "outputs": [],
   "source": [
    "#test the function\n",
    "train, validate, test = split_data(df_telco)"
   ]
  },
  {
   "cell_type": "code",
   "execution_count": 22,
   "id": "e8b8e39f",
   "metadata": {},
   "outputs": [
    {
     "name": "stdout",
     "output_type": "stream",
     "text": [
      "train -> (3924, 13)\n",
      "validate -> (1683, 13)\n",
      "test -> (1402, 13)\n"
     ]
    }
   ],
   "source": [
    "#validate the split\n",
    "\n",
    "print(f'train -> {train.shape}')\n",
    "print(f'validate -> {validate.shape}')\n",
    "print(f'test -> {test.shape}')"
   ]
  },
  {
   "cell_type": "code",
   "execution_count": null,
   "id": "fbc91f88",
   "metadata": {},
   "outputs": [],
   "source": [
    "################################## EXPLORATORY DATA ANALYSIS"
   ]
  },
  {
   "cell_type": "code",
   "execution_count": null,
   "id": "0c296946",
   "metadata": {},
   "outputs": [],
   "source": [
    "# ACQUIRE"
   ]
  },
  {
   "cell_type": "code",
   "execution_count": null,
   "id": "76ab07e2",
   "metadata": {},
   "outputs": [],
   "source": [
    "from env import get_connection"
   ]
  },
  {
   "cell_type": "code",
   "execution_count": null,
   "id": "e66a4b41",
   "metadata": {},
   "outputs": [],
   "source": [
    "def new_iris_data():\n",
    "    '''\n",
    "    This function reads the iris data from the Codeup db into a df.\n",
    "    '''\n",
    "    sql_query = \"\"\"\n",
    "                SELECT \n",
    "                    species_id,\n",
    "                    species_name,\n",
    "                    sepal_length,\n",
    "                    sepal_width,\n",
    "                    petal_length,\n",
    "                    petal_width\n",
    "                FROM measurements\n",
    "                JOIN species USING(species_id)\n",
    "                \"\"\"\n",
    "    \n",
    "    # Read in DataFrame from Codeup db.\n",
    "    df = pd.read_sql(sql_query, get_connection('iris_db'))\n",
    "    \n",
    "    return df\n"
   ]
  },
  {
   "cell_type": "code",
   "execution_count": null,
   "id": "70b5a4d9",
   "metadata": {},
   "outputs": [],
   "source": [
    "new_iris_data().head()"
   ]
  },
  {
   "cell_type": "code",
   "execution_count": null,
   "id": "b532d14d",
   "metadata": {},
   "outputs": [],
   "source": [
    "def access_iris_data():\n",
    "    '''\n",
    "    This function reads the iris data from SQL\n",
    "    '''\n",
    "    sql_query = \"\"\"\n",
    "                SELECT *\n",
    "                FROM measurements\n",
    "                JOIN species USING(species_id);\n",
    "                \"\"\"\n",
    "    # Read in DataFrame from Codeup db.\n",
    "    df = pd.read_sql(sql_query, get_connection('iris_db'))\n",
    "    \n",
    "    return df"
   ]
  },
  {
   "cell_type": "code",
   "execution_count": null,
   "id": "524db0f9",
   "metadata": {},
   "outputs": [],
   "source": [
    "iris_df =access_iris_data()"
   ]
  },
  {
   "cell_type": "code",
   "execution_count": 23,
   "id": "63464e12",
   "metadata": {},
   "outputs": [],
   "source": [
    "import pandas as pd\n",
    "import numpy as np\n",
    "import matplotlib.pyplot as plt\n",
    "import seaborn as sns\n",
    "from sklearn.model_selection import train_test_split\n",
    "from scipy import stats\n",
    "\n",
    "def train_validate_test_split(df, target, seed=123):\n",
    "    '''\n",
    "    This function takes in a dataframe, the name of the target variable\n",
    "    (for stratification purposes), and an integer for a setting a seed\n",
    "    and splits the data into train, validate and test. \n",
    "    Test is 20% of the original dataset, validate is .30*.80= 24% of the \n",
    "    original dataset, and train is .70*.80= 56% of the original dataset. \n",
    "    The function returns, in this order, train, validate and test dataframes. \n",
    "    '''\n",
    "    train_validate, test = train_test_split(df, test_size=0.2, \n",
    "                                            random_state=seed, \n",
    "                                            stratify=df[target])\n",
    "    train, validate = train_test_split(train_validate, test_size=0.3, \n",
    "                                       random_state=seed,\n",
    "                                       stratify=train_validate[target])\n",
    "    return train, validate, test\n",
    "\n",
    "\n",
    "def explore_univariate(train, cat_vars, quant_vars):\n",
    "    for var in cat_vars:\n",
    "        explore_univariate_categorical(train, var)\n",
    "        print('_________________________________________________________________')\n",
    "    for col in quant_vars:\n",
    "        p, descriptive_stats = explore_univariate_quant(train, col)\n",
    "        plt.show(p)\n",
    "        print(descriptive_stats)\n",
    "\n",
    "def explore_bivariate(train, target, cat_vars, quant_vars):\n",
    "    for cat in cat_vars:\n",
    "        explore_bivariate_categorical(train, target, cat)\n",
    "    for quant in quant_vars:\n",
    "        explore_bivariate_quant(train, target, quant)\n",
    "\n",
    "def explore_multivariate(train, target, cat_vars, quant_vars):\n",
    "    '''\n",
    "    '''\n",
    "    plot_swarm_grid_with_color(train, target, cat_vars, quant_vars)\n",
    "    plt.show()\n",
    "    violin = plot_violin_grid_with_color(train, target, cat_vars, quant_vars)\n",
    "    plt.show()\n",
    "    pair = sns.pairplot(data=train, vars=quant_vars, hue=target)\n",
    "    plt.show()\n",
    "    plot_all_continuous_vars(train, target, quant_vars)\n",
    "    plt.show()    \n",
    "\n",
    "\n",
    "### Univariate\n",
    "\n",
    "def explore_univariate_categorical(train, cat_var):\n",
    "    '''\n",
    "    takes in a dataframe and a categorical variable and returns\n",
    "    a frequency table and barplot of the frequencies. \n",
    "    '''\n",
    "    frequency_table = freq_table(train, cat_var)\n",
    "    plt.figure(figsize=(2,2))\n",
    "    sns.barplot(x=cat_var, y='Count', data=frequency_table, color='lightseagreen')\n",
    "    plt.title(cat_var)\n",
    "    plt.show()\n",
    "    print(frequency_table)\n",
    "\n",
    "def explore_univariate_quant(train, quant_var):\n",
    "    '''\n",
    "    takes in a dataframe and a quantitative variable and returns\n",
    "    descriptive stats table, histogram, and boxplot of the distributions. \n",
    "    '''\n",
    "    descriptive_stats = train[quant_var].describe()\n",
    "    plt.figure(figsize=(8,2))\n",
    "\n",
    "    p = plt.subplot(1, 2, 1)\n",
    "    p = plt.hist(train[quant_var], color='lightseagreen')\n",
    "    p = plt.title(quant_var)\n",
    "\n",
    "    # second plot: box plot\n",
    "    p = plt.subplot(1, 2, 2)\n",
    "    p = plt.boxplot(train[quant_var])\n",
    "    p = plt.title(quant_var)\n",
    "    return p, descriptive_stats\n",
    "\n",
    "def freq_table(train, cat_var):\n",
    "    '''\n",
    "    for a given categorical variable, compute the frequency count and percent split\n",
    "    and return a dataframe of those values along with the different classes. \n",
    "    '''\n",
    "    class_labels = list(train[cat_var].unique())\n",
    "\n",
    "    frequency_table = (\n",
    "        pd.DataFrame({cat_var: class_labels,\n",
    "                      'Count': train[cat_var].value_counts(normalize=False), \n",
    "                      'Percent': round(train[cat_var].value_counts(normalize=True)*100,2)}\n",
    "                    )\n",
    "    )\n",
    "    return frequency_table\n",
    "\n",
    "\n",
    "#### Bivariate\n",
    "\n",
    "def explore_bivariate_categorical(train, target, cat_var):\n",
    "    '''\n",
    "    takes in categorical variable and binary target variable, \n",
    "    returns a crosstab of frequencies\n",
    "    runs a chi-square test for the proportions\n",
    "    and creates a barplot, adding a horizontal line of the overall rate of the target. \n",
    "    '''\n",
    "    print(cat_var, \"\\n_____________________\\n\")\n",
    "    ct = pd.crosstab(train[cat_var], train[target], margins=True)\n",
    "    chi2_summary, observed, expected = run_chi2(train, cat_var, target)\n",
    "    p = plot_cat_by_target(train, target, cat_var)\n",
    "\n",
    "    print(chi2_summary)\n",
    "    print(\"\\nobserved:\\n\", ct)\n",
    "    print(\"\\nexpected:\\n\", expected)\n",
    "    plt.show(p)\n",
    "    print(\"\\n_____________________\\n\")\n",
    "\n",
    "def explore_bivariate_quant(train, target, quant_var):\n",
    "    '''\n",
    "    descriptive stats by each target class. \n",
    "    compare means across 2 target groups \n",
    "    boxenplot of target x quant\n",
    "    swarmplot of target x quant\n",
    "    '''\n",
    "    print(quant_var, \"\\n____________________\\n\")\n",
    "    descriptive_stats = train.groupby(target)[quant_var].describe()\n",
    "    average = train[quant_var].mean()\n",
    "    mann_whitney = compare_means(train, target, quant_var)\n",
    "    plt.figure(figsize=(4,4))\n",
    "    boxen = plot_boxen(train, target, quant_var)\n",
    "    swarm = plot_swarm(train, target, quant_var)\n",
    "    plt.show()\n",
    "    print(descriptive_stats, \"\\n\")\n",
    "    print(\"\\nMann-Whitney Test:\\n\", mann_whitney)\n",
    "    print(\"\\n____________________\\n\")\n",
    "\n",
    "## Bivariate Categorical\n",
    "\n",
    "def run_chi2(train, cat_var, target):\n",
    "    observed = pd.crosstab(train[cat_var], train[target])\n",
    "    chi2, p, degf, expected = stats.chi2_contingency(observed)\n",
    "    chi2_summary = pd.DataFrame({'chi2': [chi2], 'p-value': [p], \n",
    "                                 'degrees of freedom': [degf]})\n",
    "    expected = pd.DataFrame(expected)\n",
    "    return chi2_summary, observed, expected\n",
    "\n",
    "def plot_cat_by_target(train, target, cat_var):\n",
    "    p = plt.figure(figsize=(2,2))\n",
    "    p = sns.barplot(cat_var, target, data=train, alpha=.8, color='lightseagreen')\n",
    "    overall_rate = train[target].mean()\n",
    "    p = plt.axhline(overall_rate, ls='--', color='gray')\n",
    "    return p\n",
    "\n",
    "\n",
    "## Bivariate Quant\n",
    "\n",
    "def plot_swarm(train, target, quant_var):\n",
    "    average = train[quant_var].mean()\n",
    "    p = sns.swarmplot(data=train, x=target, y=quant_var, color='lightgray')\n",
    "    p = plt.title(quant_var)\n",
    "    p = plt.axhline(average, ls='--', color='black')\n",
    "    return p\n",
    "\n",
    "def plot_boxen(train, target, quant_var):\n",
    "    average = train[quant_var].mean()\n",
    "    p = sns.boxenplot(data=train, x=target, y=quant_var, color='lightseagreen')\n",
    "    p = plt.title(quant_var)\n",
    "    p = plt.axhline(average, ls='--', color='black')\n",
    "    return p\n",
    "\n",
    "# alt_hyp = ‘two-sided’, ‘less’, ‘greater’\n",
    "\n",
    "def compare_means(train, target, quant_var, alt_hyp='two-sided'):\n",
    "    x = train[train[target]==0][quant_var]\n",
    "    y = train[train[target]==1][quant_var]\n",
    "    return stats.mannwhitneyu(x, y, use_continuity=True, alternative=alt_hyp)\n",
    "\n",
    "\n",
    "### Multivariate\n",
    "\n",
    "def plot_all_continuous_vars(train, target, quant_vars):\n",
    "    '''\n",
    "    Melt the dataset to \"long-form\" representation\n",
    "    boxenplot of measurement x value with color representing the target variable. \n",
    "    '''\n",
    "    my_vars = [item for sublist in [quant_vars, [target]] for item in sublist]\n",
    "    sns.set(style=\"whitegrid\", palette=\"muted\")\n",
    "    melt = train[my_vars].melt(id_vars=target, var_name=\"measurement\")\n",
    "    plt.figure(figsize=(8,6))\n",
    "    p = sns.boxenplot(x=\"measurement\", y=\"value\", hue=target, data=melt)\n",
    "    p.set(yscale=\"log\", xlabel='')    \n",
    "    plt.show()\n",
    "\n",
    "def plot_violin_grid_with_color(train, target, cat_vars, quant_vars):\n",
    "    cols = len(cat_vars)\n",
    "    for quant in quant_vars:\n",
    "        _, ax = plt.subplots(nrows=1, ncols=cols, figsize=(16, 4), sharey=True)\n",
    "        for i, cat in enumerate(cat_vars):\n",
    "            sns.violinplot(x=cat, y=quant, data=train, split=True, \n",
    "                           ax=ax[i], hue=target, palette=\"Set2\")\n",
    "            ax[i].set_xlabel('')\n",
    "            ax[i].set_ylabel(quant)\n",
    "            ax[i].set_title(cat)\n",
    "        plt.show()\n",
    "\n",
    "def plot_swarm_grid_with_color(train, target, cat_vars, quant_vars):\n",
    "    cols = len(cat_vars)\n",
    "    for quant in quant_vars:\n",
    "        _, ax = plt.subplots(nrows=1, ncols=cols, figsize=(16, 4), sharey=True)\n",
    "        for i, cat in enumerate(cat_vars):\n",
    "            sns.swarmplot(x=cat, y=quant, data=train, ax=ax[i], hue=target, palette=\"Set2\")\n",
    "            ax[i].set_xlabel('')\n",
    "            ax[i].set_ylabel(quant)\n",
    "            ax[i].set_title(cat)\n",
    "        plt.show()\n",
    "\n"
   ]
  },
  {
   "cell_type": "code",
   "execution_count": null,
   "id": "4e97a324",
   "metadata": {},
   "outputs": [],
   "source": [
    "#PREPARE"
   ]
  },
  {
   "cell_type": "code",
   "execution_count": null,
   "id": "39bc8b96",
   "metadata": {},
   "outputs": [],
   "source": [
    "iris_df.head()"
   ]
  },
  {
   "cell_type": "code",
   "execution_count": null,
   "id": "c1092896",
   "metadata": {},
   "outputs": [],
   "source": [
    "#drop unnecessary column\n",
    "#iris_df = iris_df.drop(columns = ['species_id'])\n",
    "iris_df = iris_df.drop(columns = ['measurement_id'])"
   ]
  },
  {
   "cell_type": "code",
   "execution_count": null,
   "id": "7b626015",
   "metadata": {},
   "outputs": [],
   "source": [
    "iris_df.head()"
   ]
  },
  {
   "cell_type": "code",
   "execution_count": null,
   "id": "4c05bf0d",
   "metadata": {},
   "outputs": [],
   "source": [
    "# sample \n",
    "#rename df.rename(columns={'species_name': 'species'}, inplace=True)\n",
    "iris_df.rename(columns={'species_name':'species'}, inplace=True)"
   ]
  },
  {
   "cell_type": "code",
   "execution_count": null,
   "id": "9d25537d",
   "metadata": {},
   "outputs": [],
   "source": [
    "# create dummy columns\n",
    "df_dummy = pd.get_dummies(iris_df[['species']]) #drop_first=[True] if I want to whittle down columns to only the necessary\n",
    "\n",
    "df_dummy.head()"
   ]
  },
  {
   "cell_type": "code",
   "execution_count": null,
   "id": "acd45627",
   "metadata": {},
   "outputs": [],
   "source": [
    "#add this df to the original\n",
    "iris_df= pd.concat([iris_df, df_dummy], axis = 1)\n",
    "iris_df.head()"
   ]
  },
  {
   "cell_type": "code",
   "execution_count": null,
   "id": "b07f397e",
   "metadata": {},
   "outputs": [],
   "source": [
    "iris_df"
   ]
  },
  {
   "cell_type": "code",
   "execution_count": null,
   "id": "b301bbc1",
   "metadata": {},
   "outputs": [],
   "source": [
    "#this tells me there are no null values\n",
    "iris_df.isnull().sum()"
   ]
  },
  {
   "cell_type": "code",
   "execution_count": null,
   "id": "0404eb87",
   "metadata": {},
   "outputs": [],
   "source": [
    "#plot\n",
    "sns.pairplot(iris_df)"
   ]
  },
  {
   "cell_type": "code",
   "execution_count": null,
   "id": "c1f21815",
   "metadata": {},
   "outputs": [],
   "source": [
    "#split the dataframe\n",
    "# 20% test, 80% train_validate\n",
    "# then of the 80% train_validate: 30% validate, 70% train. \n",
    "\n",
    "train, test = train_test_split(iris_df, test_size=.2, random_state=123, stratify=iris_df.species)\n",
    "train, validate = train_test_split(train, test_size=.3, random_state=123, stratify=train.species)"
   ]
  },
  {
   "cell_type": "code",
   "execution_count": null,
   "id": "684f0a52",
   "metadata": {},
   "outputs": [],
   "source": [
    "#validate the split\n",
    "print(f'train -> {train.shape}')\n",
    "print(f'validate -> {validate.shape}')\n",
    "print(f'test -> {test.shape}')"
   ]
  },
  {
   "cell_type": "code",
   "execution_count": null,
   "id": "c9a27d1d",
   "metadata": {},
   "outputs": [],
   "source": [
    "cat_vars = ['species']\n",
    "quant_vars = ['sepal_length', 'petal_length','sepal_width','petal_width']"
   ]
  },
  {
   "cell_type": "code",
   "execution_count": null,
   "id": "2f18f66e",
   "metadata": {},
   "outputs": [],
   "source": [
    "explore_univariate(train, cat_vars, quant_vars)"
   ]
  },
  {
   "cell_type": "code",
   "execution_count": null,
   "id": "f69ca36a",
   "metadata": {},
   "outputs": [],
   "source": [
    "#Bivariate\n",
    "explore_bivariate(train, 'species_id', cat_vars, quant_vars)"
   ]
  },
  {
   "cell_type": "code",
   "execution_count": null,
   "id": "a84789ca",
   "metadata": {},
   "outputs": [],
   "source": [
    "#Mulitvariate\n",
    "explore_multivariate(train, 'species_id', cat_vars, quant_vars)"
   ]
  },
  {
   "cell_type": "code",
   "execution_count": null,
   "id": "4b68f9a6",
   "metadata": {},
   "outputs": [],
   "source": []
  },
  {
   "cell_type": "code",
   "execution_count": null,
   "id": "352c5ae1",
   "metadata": {},
   "outputs": [],
   "source": []
  },
  {
   "cell_type": "markdown",
   "id": "333fe8ba",
   "metadata": {},
   "source": [
    "#PRACTICE EXPLORATION WITH TELCO DATA (previously prepared above the iris_df exercises)"
   ]
  },
  {
   "cell_type": "code",
   "execution_count": 29,
   "id": "639817c0",
   "metadata": {},
   "outputs": [
    {
     "name": "stdout",
     "output_type": "stream",
     "text": [
      "<class 'pandas.core.frame.DataFrame'>\n",
      "Int64Index: 7009 entries, 0 to 7048\n",
      "Data columns (total 13 columns):\n",
      " #   Column             Non-Null Count  Dtype  \n",
      "---  ------             --------------  -----  \n",
      " 0   gender             7009 non-null   object \n",
      " 1   is_senior_citizen  7009 non-null   int64  \n",
      " 2   partner            7009 non-null   object \n",
      " 3   dependents         7009 non-null   object \n",
      " 4   phone_service      7009 non-null   int64  \n",
      " 5   internet_service   7009 non-null   int64  \n",
      " 6   contract_type      7009 non-null   int64  \n",
      " 7   payment_type       7009 non-null   object \n",
      " 8   monthly_charges    7009 non-null   float64\n",
      " 9   total_charges      7009 non-null   float64\n",
      " 10  churn              7009 non-null   object \n",
      " 11  dependents_Yes     7009 non-null   uint8  \n",
      " 12  churn_Yes          7009 non-null   uint8  \n",
      "dtypes: float64(2), int64(4), object(5), uint8(2)\n",
      "memory usage: 670.8+ KB\n"
     ]
    }
   ],
   "source": [
    "df_telco.info()"
   ]
  },
  {
   "cell_type": "code",
   "execution_count": 24,
   "id": "603b9a25",
   "metadata": {},
   "outputs": [
    {
     "data": {
      "text/html": [
       "<div>\n",
       "<style scoped>\n",
       "    .dataframe tbody tr th:only-of-type {\n",
       "        vertical-align: middle;\n",
       "    }\n",
       "\n",
       "    .dataframe tbody tr th {\n",
       "        vertical-align: top;\n",
       "    }\n",
       "\n",
       "    .dataframe thead th {\n",
       "        text-align: right;\n",
       "    }\n",
       "</style>\n",
       "<table border=\"1\" class=\"dataframe\">\n",
       "  <thead>\n",
       "    <tr style=\"text-align: right;\">\n",
       "      <th></th>\n",
       "      <th>gender</th>\n",
       "      <th>is_senior_citizen</th>\n",
       "      <th>partner</th>\n",
       "      <th>dependents</th>\n",
       "      <th>phone_service</th>\n",
       "      <th>internet_service</th>\n",
       "      <th>contract_type</th>\n",
       "      <th>payment_type</th>\n",
       "      <th>monthly_charges</th>\n",
       "      <th>total_charges</th>\n",
       "      <th>churn</th>\n",
       "      <th>dependents_Yes</th>\n",
       "      <th>churn_Yes</th>\n",
       "    </tr>\n",
       "  </thead>\n",
       "  <tbody>\n",
       "    <tr>\n",
       "      <th>0</th>\n",
       "      <td>Female</td>\n",
       "      <td>0</td>\n",
       "      <td>Yes</td>\n",
       "      <td>Yes</td>\n",
       "      <td>1</td>\n",
       "      <td>1</td>\n",
       "      <td>1</td>\n",
       "      <td>Mailed check</td>\n",
       "      <td>65.6</td>\n",
       "      <td>593.30</td>\n",
       "      <td>No</td>\n",
       "      <td>1</td>\n",
       "      <td>0</td>\n",
       "    </tr>\n",
       "    <tr>\n",
       "      <th>1</th>\n",
       "      <td>Male</td>\n",
       "      <td>0</td>\n",
       "      <td>No</td>\n",
       "      <td>No</td>\n",
       "      <td>2</td>\n",
       "      <td>1</td>\n",
       "      <td>0</td>\n",
       "      <td>Mailed check</td>\n",
       "      <td>59.9</td>\n",
       "      <td>542.40</td>\n",
       "      <td>No</td>\n",
       "      <td>0</td>\n",
       "      <td>0</td>\n",
       "    </tr>\n",
       "    <tr>\n",
       "      <th>2</th>\n",
       "      <td>Male</td>\n",
       "      <td>0</td>\n",
       "      <td>No</td>\n",
       "      <td>No</td>\n",
       "      <td>1</td>\n",
       "      <td>2</td>\n",
       "      <td>0</td>\n",
       "      <td>Electronic check</td>\n",
       "      <td>73.9</td>\n",
       "      <td>280.85</td>\n",
       "      <td>Yes</td>\n",
       "      <td>0</td>\n",
       "      <td>1</td>\n",
       "    </tr>\n",
       "    <tr>\n",
       "      <th>3</th>\n",
       "      <td>Male</td>\n",
       "      <td>1</td>\n",
       "      <td>Yes</td>\n",
       "      <td>No</td>\n",
       "      <td>1</td>\n",
       "      <td>2</td>\n",
       "      <td>0</td>\n",
       "      <td>Electronic check</td>\n",
       "      <td>98.0</td>\n",
       "      <td>1237.85</td>\n",
       "      <td>Yes</td>\n",
       "      <td>0</td>\n",
       "      <td>1</td>\n",
       "    </tr>\n",
       "    <tr>\n",
       "      <th>4</th>\n",
       "      <td>Female</td>\n",
       "      <td>1</td>\n",
       "      <td>Yes</td>\n",
       "      <td>No</td>\n",
       "      <td>1</td>\n",
       "      <td>2</td>\n",
       "      <td>0</td>\n",
       "      <td>Mailed check</td>\n",
       "      <td>83.9</td>\n",
       "      <td>267.40</td>\n",
       "      <td>Yes</td>\n",
       "      <td>0</td>\n",
       "      <td>1</td>\n",
       "    </tr>\n",
       "  </tbody>\n",
       "</table>\n",
       "</div>"
      ],
      "text/plain": [
       "   gender  is_senior_citizen partner dependents  phone_service  \\\n",
       "0  Female                  0     Yes        Yes              1   \n",
       "1    Male                  0      No         No              2   \n",
       "2    Male                  0      No         No              1   \n",
       "3    Male                  1     Yes         No              1   \n",
       "4  Female                  1     Yes         No              1   \n",
       "\n",
       "   internet_service  contract_type      payment_type  monthly_charges  \\\n",
       "0                 1              1      Mailed check             65.6   \n",
       "1                 1              0      Mailed check             59.9   \n",
       "2                 2              0  Electronic check             73.9   \n",
       "3                 2              0  Electronic check             98.0   \n",
       "4                 2              0      Mailed check             83.9   \n",
       "\n",
       "   total_charges churn  dependents_Yes  churn_Yes  \n",
       "0         593.30    No               1          0  \n",
       "1         542.40    No               0          0  \n",
       "2         280.85   Yes               0          1  \n",
       "3        1237.85   Yes               0          1  \n",
       "4         267.40   Yes               0          1  "
      ]
     },
     "execution_count": 24,
     "metadata": {},
     "output_type": "execute_result"
    }
   ],
   "source": [
    "df_telco.head()"
   ]
  },
  {
   "cell_type": "markdown",
   "id": "187be715",
   "metadata": {},
   "source": [
    "# My questions\n",
    "1.  Does gender effect churn rate?\n",
    "2.  Does payment type effect churn?\n",
    "3. Can you predict churn from monthly charges amount?\n",
    "4.  Do females with dependents churn more than females without dependents?"
   ]
  },
  {
   "cell_type": "code",
   "execution_count": 27,
   "id": "961c7053",
   "metadata": {},
   "outputs": [],
   "source": [
    "cat_vars = ['gender','churn','payment_type', 'is_senior_citizen', 'partner', 'dependents', 'phone_service', 'internet_service', 'contract_type']\n",
    "quant_vars = ['monthly_charges', 'total_charges']"
   ]
  },
  {
   "cell_type": "code",
   "execution_count": 28,
   "id": "d163b833",
   "metadata": {},
   "outputs": [
    {
     "data": {
      "image/png": "[encoded data removed]",
      "text/plain": [
       "<Figure size 144x144 with 1 Axes>"
      ]
     },
     "metadata": {
      "needs_background": "light"
     },
     "output_type": "display_data"
    },
    {
     "name": "stdout",
     "output_type": "stream",
     "text": [
      "        gender  Count  Percent\n",
      "Male      Male   1991    50.74\n",
      "Female  Female   1933    49.26\n",
      "_________________________________________________________________\n"
     ]
    },
    {
     "data": {
      "image/png": "[encoded data removed]",
      "text/plain": [
       "<Figure size 144x144 with 1 Axes>"
      ]
     },
     "metadata": {
      "needs_background": "light"
     },
     "output_type": "display_data"
    },
    {
     "name": "stdout",
     "output_type": "stream",
     "text": [
      "    churn  Count  Percent\n",
      "No     No   2887    73.57\n",
      "Yes   Yes   1037    26.43\n",
      "_________________________________________________________________\n"
     ]
    },
    {
     "data": {
      "image/png": "[encoded data removed]",
      "text/plain": [
       "<Figure size 144x144 with 1 Axes>"
      ]
     },
     "metadata": {
      "needs_background": "light"
     },
     "output_type": "display_data"
    },
    {
     "name": "stdout",
     "output_type": "stream",
     "text": [
      "                                        payment_type  Count  Percent\n",
      "Electronic check             Credit card (automatic)   1317    33.56\n",
      "Mailed check                            Mailed check    894    22.78\n",
      "Bank transfer (automatic)  Bank transfer (automatic)    874    22.27\n",
      "Credit card (automatic)             Electronic check    839    21.38\n",
      "_________________________________________________________________\n"
     ]
    },
    {
     "data": {
      "image/png": "[encoded data removed]",
      "text/plain": [
       "<Figure size 144x144 with 1 Axes>"
      ]
     },
     "metadata": {
      "needs_background": "light"
     },
     "output_type": "display_data"
    },
    {
     "name": "stdout",
     "output_type": "stream",
     "text": [
      "   is_senior_citizen  Count  Percent\n",
      "0                  1   3289    83.82\n",
      "1                  0    635    16.18\n",
      "_________________________________________________________________\n"
     ]
    },
    {
     "data": {
      "image/png": "[encoded data removed]",
      "text/plain": [
       "<Figure size 144x144 with 1 Axes>"
      ]
     },
     "metadata": {
      "needs_background": "light"
     },
     "output_type": "display_data"
    },
    {
     "name": "stdout",
     "output_type": "stream",
     "text": [
      "    partner  Count  Percent\n",
      "No       No   1965    50.08\n",
      "Yes     Yes   1959    49.92\n",
      "_________________________________________________________________\n"
     ]
    },
    {
     "data": {
      "image/png": "[encoded data removed]",
      "text/plain": [
       "<Figure size 144x144 with 1 Axes>"
      ]
     },
     "metadata": {
      "needs_background": "light"
     },
     "output_type": "display_data"
    },
    {
     "name": "stdout",
     "output_type": "stream",
     "text": [
      "    dependents  Count  Percent\n",
      "No          No   2718    69.27\n",
      "Yes        Yes   1206    30.73\n",
      "_________________________________________________________________\n"
     ]
    },
    {
     "data": {
      "image/png": "[encoded data removed]",
      "text/plain": [
       "<Figure size 144x144 with 1 Axes>"
      ]
     },
     "metadata": {
      "needs_background": "light"
     },
     "output_type": "display_data"
    },
    {
     "name": "stdout",
     "output_type": "stream",
     "text": [
      "   phone_service  Count  Percent\n",
      "1              1   1891    48.19\n",
      "2              2   1663    42.38\n",
      "0              0    370     9.43\n",
      "_________________________________________________________________\n"
     ]
    },
    {
     "data": {
      "image/png": "[encoded data removed]",
      "text/plain": [
       "<Figure size 144x144 with 1 Axes>"
      ]
     },
     "metadata": {
      "needs_background": "light"
     },
     "output_type": "display_data"
    },
    {
     "name": "stdout",
     "output_type": "stream",
     "text": [
      "   internet_service  Count  Percent\n",
      "2                 0   1743    44.42\n",
      "1                 1   1354    34.51\n",
      "0                 2    827    21.08\n",
      "_________________________________________________________________\n"
     ]
    },
    {
     "data": {
      "image/png": "[encoded data removed]",
      "text/plain": [
       "<Figure size 144x144 with 1 Axes>"
      ]
     },
     "metadata": {
      "needs_background": "light"
     },
     "output_type": "display_data"
    },
    {
     "name": "stdout",
     "output_type": "stream",
     "text": [
      "   contract_type  Count  Percent\n",
      "0              1   2170    55.30\n",
      "2              0    932    23.75\n",
      "1              2    822    20.95\n",
      "_________________________________________________________________\n"
     ]
    },
    {
     "data": {
      "image/png": "[encoded data removed]",
      "text/plain": [
       "<Figure size 576x144 with 2 Axes>"
      ]
     },
     "metadata": {
      "needs_background": "light"
     },
     "output_type": "display_data"
    },
    {
     "name": "stdout",
     "output_type": "stream",
     "text": [
      "count    3924.000000\n",
      "mean       65.138022\n",
      "std        29.931326\n",
      "min        18.250000\n",
      "25%        38.737500\n",
      "50%        70.450000\n",
      "75%        90.000000\n",
      "max       118.650000\n",
      "Name: monthly_charges, dtype: float64\n"
     ]
    },
    {
     "data": {
      "image/png": "[encoded data removed]",
      "text/plain": [
       "<Figure size 576x144 with 2 Axes>"
      ]
     },
     "metadata": {
      "needs_background": "light"
     },
     "output_type": "display_data"
    },
    {
     "name": "stdout",
     "output_type": "stream",
     "text": [
      "count    3924.000000\n",
      "mean     2289.431919\n",
      "std      2274.930876\n",
      "min        18.850000\n",
      "25%       396.250000\n",
      "50%      1398.975000\n",
      "75%      3808.787500\n",
      "max      8670.100000\n",
      "Name: total_charges, dtype: float64\n"
     ]
    }
   ],
   "source": [
    "explore_univariate(train, cat_vars, quant_vars)"
   ]
  },
  {
   "cell_type": "code",
   "execution_count": null,
   "id": "cd2f35ba",
   "metadata": {},
   "outputs": [],
   "source": [
    "#This lets me check that I am using the same data I just prepared\n",
    "train.head()"
   ]
  },
  {
   "cell_type": "code",
   "execution_count": null,
   "id": "9e22c641",
   "metadata": {},
   "outputs": [],
   "source": []
  }
 ],
 "metadata": {
  "kernelspec": {
   "display_name": "Python 3",
   "language": "python",
   "name": "python3"
  },
  "language_info": {
   "codemirror_mode": {
    "name": "ipython",
    "version": 3
   },
   "file_extension": ".py",
   "mimetype": "text/x-python",
   "name": "python",
   "nbconvert_exporter": "python",
   "pygments_lexer": "ipython3",
   "version": "3.8.8"
  }
 },
 "nbformat": 4,
 "nbformat_minor": 5
}
