{
 "cells": [
  {
   "cell_type": "code",
   "execution_count": 1,
   "id": "9f23b7f7",
   "metadata": {},
   "outputs": [],
   "source": [
    "import pandas as pd\n",
    "import numpy as np\n"
   ]
  },
  {
   "cell_type": "markdown",
   "id": "810ff646",
   "metadata": {},
   "source": [
    "2. Given the following confusion matrix, evaluate (by hand) the model's performance.\n"
   ]
  },
  {
   "cell_type": "code",
   "execution_count": 2,
   "id": "cfe3f8f1",
   "metadata": {},
   "outputs": [
    {
     "data": {
      "text/html": [
       "<div>\n",
       "<style scoped>\n",
       "    .dataframe tbody tr th:only-of-type {\n",
       "        vertical-align: middle;\n",
       "    }\n",
       "\n",
       "    .dataframe tbody tr th {\n",
       "        vertical-align: top;\n",
       "    }\n",
       "\n",
       "    .dataframe thead th {\n",
       "        text-align: right;\n",
       "    }\n",
       "</style>\n",
       "<table border=\"1\" class=\"dataframe\">\n",
       "  <thead>\n",
       "    <tr style=\"text-align: right;\">\n",
       "      <th></th>\n",
       "      <th>actual_dog</th>\n",
       "      <th>actual_cat</th>\n",
       "    </tr>\n",
       "  </thead>\n",
       "  <tbody>\n",
       "    <tr>\n",
       "      <th>pred_dog</th>\n",
       "      <td>46</td>\n",
       "      <td>13</td>\n",
       "    </tr>\n",
       "    <tr>\n",
       "      <th>pred_cat</th>\n",
       "      <td>7</td>\n",
       "      <td>34</td>\n",
       "    </tr>\n",
       "  </tbody>\n",
       "</table>\n",
       "</div>"
      ],
      "text/plain": [
       "         actual_dog actual_cat\n",
       "pred_dog         46         13\n",
       "pred_cat          7         34"
      ]
     },
     "execution_count": 2,
     "metadata": {},
     "output_type": "execute_result"
    }
   ],
   "source": [
    "data = {'actual_dog':['46','7'],'actual_cat':['13','34']}\n",
    "df = pd.DataFrame(data, columns = ['actual_dog','actual_cat'], index=['pred_dog','pred_cat'])\n",
    "df"
   ]
  },
  {
   "cell_type": "code",
   "execution_count": null,
   "id": "3b74a1ec",
   "metadata": {},
   "outputs": [],
   "source": [
    "#In the context of this problem, what is a false positive?\n",
    "# choose dog, but it's not dog"
   ]
  },
  {
   "cell_type": "code",
   "execution_count": null,
   "id": "4028fb0c",
   "metadata": {},
   "outputs": [],
   "source": [
    "#In the context of this problem, what is a false negative?\n",
    "# don't choose dog, but it is a dog"
   ]
  },
  {
   "cell_type": "code",
   "execution_count": null,
   "id": "dad4c1b9",
   "metadata": {},
   "outputs": [],
   "source": [
    "#How would you describe this model?\n"
   ]
  },
  {
   "cell_type": "markdown",
   "id": "bfa199d0",
   "metadata": {},
   "source": [
    "3. Use the predictions dataset and pandas to help answer the following questions:"
   ]
  },
  {
   "cell_type": "markdown",
   "id": "4356de4e",
   "metadata": {},
   "source": [
    "a. An internal team wants to investigate the cause of the manufacturing defects. They tell you that they want to identify as many of the ducks that have a defect as possible. Which evaluation metric would be appropriate here? Which model would be the best fit for this use case?"
   ]
  },
  {
   "cell_type": "code",
   "execution_count": null,
   "id": "236f80e0",
   "metadata": {},
   "outputs": [],
   "source": []
  }
 ],
 "metadata": {
  "kernelspec": {
   "display_name": "Python 3",
   "language": "python",
   "name": "python3"
  },
  "language_info": {
   "codemirror_mode": {
    "name": "ipython",
    "version": 3
   },
   "file_extension": ".py",
   "mimetype": "text/x-python",
   "name": "python",
   "nbconvert_exporter": "python",
   "pygments_lexer": "ipython3",
   "version": "3.8.8"
  }
 },
 "nbformat": 4,
 "nbformat_minor": 5
}
